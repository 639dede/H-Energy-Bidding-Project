{
 "cells": [
  {
   "cell_type": "code",
   "execution_count": 8,
   "id": "216c8c69",
   "metadata": {},
   "outputs": [],
   "source": [
    "import pandas as pd\n",
    "import numpy as np\n",
    "from statsmodels.tsa.ar_model import AutoReg\n",
    "import statsmodels.api as sm\n",
    "\n",
    "import matplotlib.pyplot as plt\n",
    "from statsmodels.graphics.tsaplots import plot_acf\n",
    "from statsmodels.graphics.tsaplots import plot_pacf"
   ]
  },
  {
   "cell_type": "code",
   "execution_count": 2,
   "id": "4cf00cf8",
   "metadata": {},
   "outputs": [
    {
     "data": {
      "text/html": [
       "<div>\n",
       "<style scoped>\n",
       "    .dataframe tbody tr th:only-of-type {\n",
       "        vertical-align: middle;\n",
       "    }\n",
       "\n",
       "    .dataframe tbody tr th {\n",
       "        vertical-align: top;\n",
       "    }\n",
       "\n",
       "    .dataframe thead th {\n",
       "        text-align: right;\n",
       "    }\n",
       "</style>\n",
       "<table border=\"1\" class=\"dataframe\">\n",
       "  <thead>\n",
       "    <tr style=\"text-align: right;\">\n",
       "      <th></th>\n",
       "      <th>day ahead forecast</th>\n",
       "      <th>real time forecast</th>\n",
       "      <th>gen</th>\n",
       "      <th>m(t)</th>\n",
       "    </tr>\n",
       "    <tr>\n",
       "      <th>Column_1-T</th>\n",
       "      <th></th>\n",
       "      <th></th>\n",
       "      <th></th>\n",
       "      <th></th>\n",
       "    </tr>\n",
       "  </thead>\n",
       "  <tbody>\n",
       "    <tr>\n",
       "      <th>2024-01-01 07:00:00+09:00</th>\n",
       "      <td>-0.409948</td>\n",
       "      <td>-0.882695</td>\n",
       "      <td>0.0000</td>\n",
       "      <td>2.153189</td>\n",
       "    </tr>\n",
       "    <tr>\n",
       "      <th>2024-01-01 08:00:00+09:00</th>\n",
       "      <td>7.505795</td>\n",
       "      <td>12.970004</td>\n",
       "      <td>1.1312</td>\n",
       "      <td>1.727999</td>\n",
       "    </tr>\n",
       "    <tr>\n",
       "      <th>2024-01-01 09:00:00+09:00</th>\n",
       "      <td>63.446081</td>\n",
       "      <td>70.429668</td>\n",
       "      <td>28.9272</td>\n",
       "      <td>1.110071</td>\n",
       "    </tr>\n",
       "    <tr>\n",
       "      <th>2024-01-01 10:00:00+09:00</th>\n",
       "      <td>212.351701</td>\n",
       "      <td>218.000908</td>\n",
       "      <td>170.8556</td>\n",
       "      <td>1.026603</td>\n",
       "    </tr>\n",
       "    <tr>\n",
       "      <th>2024-01-01 11:00:00+09:00</th>\n",
       "      <td>311.650935</td>\n",
       "      <td>342.783249</td>\n",
       "      <td>380.7380</td>\n",
       "      <td>1.099895</td>\n",
       "    </tr>\n",
       "  </tbody>\n",
       "</table>\n",
       "</div>"
      ],
      "text/plain": [
       "                           day ahead forecast  real time forecast       gen  \\\n",
       "Column_1-T                                                                    \n",
       "2024-01-01 07:00:00+09:00           -0.409948           -0.882695    0.0000   \n",
       "2024-01-01 08:00:00+09:00            7.505795           12.970004    1.1312   \n",
       "2024-01-01 09:00:00+09:00           63.446081           70.429668   28.9272   \n",
       "2024-01-01 10:00:00+09:00          212.351701          218.000908  170.8556   \n",
       "2024-01-01 11:00:00+09:00          311.650935          342.783249  380.7380   \n",
       "\n",
       "                               m(t)  \n",
       "Column_1-T                           \n",
       "2024-01-01 07:00:00+09:00  2.153189  \n",
       "2024-01-01 08:00:00+09:00  1.727999  \n",
       "2024-01-01 09:00:00+09:00  1.110071  \n",
       "2024-01-01 10:00:00+09:00  1.026603  \n",
       "2024-01-01 11:00:00+09:00  1.099895  "
      ]
     },
     "execution_count": 2,
     "metadata": {},
     "output_type": "execute_result"
    }
   ],
   "source": [
    "data = pd.read_csv(\"C:/Users/gram/Desktop/데이터 분석/Sorted_m(t).csv\", index_col=0, parse_dates=True)\n",
    "data.head()"
   ]
  },
  {
   "cell_type": "code",
   "execution_count": 4,
   "id": "0901a911",
   "metadata": {},
   "outputs": [
    {
     "name": "stdout",
     "output_type": "stream",
     "text": [
      "                            AutoReg Model Results                             \n",
      "==============================================================================\n",
      "Dep. Variable:                   m(t)   No. Observations:                 2748\n",
      "Model:                     AutoReg(1)   Log Likelihood               -2706.988\n",
      "Method:               Conditional MLE   S.D. of innovations              0.648\n",
      "Date:                Sat, 24 Aug 2024   AIC                           5419.977\n",
      "Time:                        17:50:29   BIC                           5437.731\n",
      "Sample:                             1   HQIC                          5426.392\n",
      "                                 2748                                         \n",
      "==============================================================================\n",
      "                 coef    std err          z      P>|z|      [0.025      0.975]\n",
      "------------------------------------------------------------------------------\n",
      "const          0.7540      0.022     34.437      0.000       0.711       0.797\n",
      "m(t).L1        0.2241      0.019     12.058      0.000       0.188       0.261\n",
      "                                    Roots                                    \n",
      "=============================================================================\n",
      "                  Real          Imaginary           Modulus         Frequency\n",
      "-----------------------------------------------------------------------------\n",
      "AR.1            4.4624           +0.0000j            4.4624            0.0000\n",
      "-----------------------------------------------------------------------------\n",
      "    lb_stat  lb_pvalue\n",
      "1  0.728146   0.393485\n"
     ]
    },
    {
     "name": "stderr",
     "output_type": "stream",
     "text": [
      "C:\\Users\\gram\\anaconda3\\Lib\\site-packages\\statsmodels\\tsa\\base\\tsa_model.py:473: ValueWarning: A date index has been provided, but it has no associated frequency information and so will be ignored when e.g. forecasting.\n",
      "  self._init_dates(dates, freq)\n"
     ]
    }
   ],
   "source": [
    "m_t = data['m(t)']\n",
    "\n",
    "# 이동 평균과 표준 편차 계산\n",
    "window = 14 # 이동 평균 윈도우 크기\n",
    "rolling_mean = m_t.rolling(window=window).mean()\n",
    "rolling_std = m_t.rolling(window=window).std()\n",
    "\n",
    "# 변화점 탐지\n",
    "threshold = 3 # 표준 편차의 몇 배를 넘는지\n",
    "change_points = np.where(np.abs(m_t - rolling_mean) > threshold*rolling_std)[0]\n",
    "\n",
    "# 변화점 주변을 이상치로 간주하고 제거\n",
    "outlier_indices = []\n",
    "window_size = 1 # 이상치 제거 범위\n",
    "for cp in change_points:\n",
    "    outlier_indices.extend(range(max(0, cp - window_size), min(len(m_t), cp + window_size)))\n",
    "    \n",
    "m_t_filtered_cp = m_t.drop(m_t.index[outlier_indices])\n",
    "\n",
    "# AR(1) 모델 피팅\n",
    "model_cp = AutoReg(m_t_filtered_cp, lags=1)\n",
    "model_cp_fitted = model_cp.fit()\n",
    "\n",
    "# 모델 결과 및 잔차의 Ljung-Box 테스트\n",
    "print(model_cp_fitted.summary())\n",
    "\n",
    "residuals_cp = model_cp_fitted.resid\n",
    "ljung_box_test_cp = sm.stats.acorr_ljungbox(residuals_cp, lags=[1], return_df=True)\n",
    "print(ljung_box_test_cp)"
   ]
  },
  {
   "cell_type": "code",
   "execution_count": 11,
   "id": "d88bf916",
   "metadata": {},
   "outputs": [
    {
     "name": "stderr",
     "output_type": "stream",
     "text": [
      "C:\\Users\\gram\\anaconda3\\Lib\\site-packages\\statsmodels\\tsa\\base\\tsa_model.py:473: ValueWarning: A date index has been provided, but it has no associated frequency information and so will be ignored when e.g. forecasting.\n",
      "  self._init_dates(dates, freq)\n"
     ]
    },
    {
     "data": {
      "text/plain": [
       "<Figure size 1200x600 with 0 Axes>"
      ]
     },
     "metadata": {},
     "output_type": "display_data"
    },
    {
     "data": {
      "image/png": "[encoded data removed]",
      "text/plain": [
       "<Figure size 640x480 with 1 Axes>"
      ]
     },
     "metadata": {},
     "output_type": "display_data"
    },
    {
     "data": {
      "text/plain": [
       "<Figure size 1200x600 with 0 Axes>"
      ]
     },
     "metadata": {},
     "output_type": "display_data"
    },
    {
     "data": {
      "image/png": "[encoded data removed]",
      "text/plain": [
       "<Figure size 640x480 with 1 Axes>"
      ]
     },
     "metadata": {},
     "output_type": "display_data"
    },
    {
     "name": "stdout",
     "output_type": "stream",
     "text": [
      "                            AutoReg Model Results                             \n",
      "==============================================================================\n",
      "Dep. Variable:                   m(t)   No. Observations:                 2550\n",
      "Model:                     AutoReg(1)   Log Likelihood                 -56.488\n",
      "Method:               Conditional MLE   S.D. of innovations              0.247\n",
      "Date:                Sat, 24 Aug 2024   AIC                            118.976\n",
      "Time:                        18:07:55   BIC                            136.506\n",
      "Sample:                             1   HQIC                           125.334\n",
      "                                 2550                                         \n",
      "==============================================================================\n",
      "                 coef    std err          z      P>|z|      [0.025      0.975]\n",
      "------------------------------------------------------------------------------\n",
      "const          0.6415      0.018     34.741      0.000       0.605       0.678\n",
      "m(t).L1        0.3245      0.019     17.308      0.000       0.288       0.361\n",
      "                                    Roots                                    \n",
      "=============================================================================\n",
      "                  Real          Imaginary           Modulus         Frequency\n",
      "-----------------------------------------------------------------------------\n",
      "AR.1            3.0814           +0.0000j            3.0814            0.0000\n",
      "-----------------------------------------------------------------------------\n",
      "    lb_stat  lb_pvalue\n",
      "1  2.856216   0.091021\n"
     ]
    }
   ],
   "source": [
    "# Z-Score 방법\n",
    "mean_m = data['m(t)'].mean()\n",
    "std_m = data['m(t)'].std()\n",
    "data['Z-Score'] = (data['m(t)'] - mean_m) / std_m\n",
    "\n",
    "# Z-Score 이상치 탐지 (임계값 3)\n",
    "z_score_outliers = data[np.abs(data['Z-Score']) > 3]\n",
    "\n",
    "# IQR 방법\n",
    "Q1 = data['m(t)'].quantile(0.25)\n",
    "Q3 = data['m(t)'].quantile(0.75)\n",
    "IQR = Q3 - Q1\n",
    "lower_bound = Q1 - 1.5 * IQR\n",
    "upper_bound = Q3 + 1.5 * IQR\n",
    "\n",
    "# IQR 이상치 탐지\n",
    "iqr_outliers = data[(data['m(t)'] < lower_bound) | (data['m(t)'] > upper_bound)]\n",
    "\n",
    "# 이상치 결합 및 중복 제거\n",
    "outliers_combined = pd.concat([z_score_outliers, iqr_outliers]).drop_duplicates()\n",
    "\n",
    "# 이상치 제거\n",
    "cleaned_data = data[~data.index.isin(outliers_combined.index)]\n",
    "\n",
    "# AR(1) 모델 피팅\n",
    "ar_model = AutoReg(cleaned_data['m(t)'], lags=1).fit()\n",
    "\n",
    "# 잔차 분석\n",
    "residuals = ar_model.resid\n",
    "\n",
    "# ACF, PACF 플롯 그리기\n",
    "plt.figure(figsize=(12, 6))\n",
    "plot_acf(residuals, lags=40)\n",
    "plt.title('ACF of Residuals for AR(1) Model')\n",
    "plt.grid(True)\n",
    "plt.show()\n",
    "\n",
    "plt.figure(figsize=(12, 6))\n",
    "plot_pacf(residuals, lags=40, method='ywmle')\n",
    "plt.title('PACF of Residuals for AR(1) Model')\n",
    "plt.grid(True)\n",
    "plt.show()\n",
    "\n",
    "# 모델 요약 출력\n",
    "print(ar_model.summary())\n",
    "\n",
    "ljung_box_test_cp = sm.stats.acorr_ljungbox(residuals, lags=[1], return_df=True)\n",
    "print(ljung_box_test_cp)"
   ]
  }
 ],
 "metadata": {
  "kernelspec": {
   "display_name": "Python 3 (ipykernel)",
   "language": "python",
   "name": "python3"
  },
  "language_info": {
   "codemirror_mode": {
    "name": "ipython",
    "version": 3
   },
   "file_extension": ".py",
   "mimetype": "text/x-python",
   "name": "python",
   "nbconvert_exporter": "python",
   "pygments_lexer": "ipython3",
   "version": "3.11.5"
  }
 },
 "nbformat": 4,
 "nbformat_minor": 5
}
